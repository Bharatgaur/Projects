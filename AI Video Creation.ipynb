{
  "cells": [
    {
      "cell_type": "markdown",
      "metadata": {
        "id": "view-in-github",
        "colab_type": "text"
      },
      "source": [
        "<a href=\"https://colab.research.google.com/github/Bharatgaur/Projects/blob/main/AI%20Video%20Creation.ipynb\" target=\"_parent\"><img src=\"https://colab.research.google.com/assets/colab-badge.svg\" alt=\"Open In Colab\"/></a>"
      ]
    },
    {
      "cell_type": "code",
      "source": [
        "pip install python-pptx gtts opencv-python pydub pillow moviepy"
      ],
      "metadata": {
        "id": "mbNp06BL3LtF",
        "outputId": "7c6d9706-7f4d-46ee-e0dc-d2df657295c5",
        "colab": {
          "base_uri": "https://localhost:8080/"
        }
      },
      "execution_count": 2,
      "outputs": [
        {
          "output_type": "stream",
          "name": "stdout",
          "text": [
            "Collecting python-pptx\n",
            "  Downloading python_pptx-1.0.2-py3-none-any.whl.metadata (2.5 kB)\n",
            "Collecting gtts\n",
            "  Downloading gTTS-2.5.4-py3-none-any.whl.metadata (4.1 kB)\n",
            "Requirement already satisfied: opencv-python in /usr/local/lib/python3.11/dist-packages (4.11.0.86)\n",
            "Collecting pydub\n",
            "  Downloading pydub-0.25.1-py2.py3-none-any.whl.metadata (1.4 kB)\n",
            "Requirement already satisfied: pillow in /usr/local/lib/python3.11/dist-packages (11.1.0)\n",
            "Requirement already satisfied: moviepy in /usr/local/lib/python3.11/dist-packages (1.0.3)\n",
            "Collecting XlsxWriter>=0.5.7 (from python-pptx)\n",
            "  Downloading XlsxWriter-3.2.2-py3-none-any.whl.metadata (2.8 kB)\n",
            "Requirement already satisfied: lxml>=3.1.0 in /usr/local/lib/python3.11/dist-packages (from python-pptx) (5.3.1)\n",
            "Requirement already satisfied: typing-extensions>=4.9.0 in /usr/local/lib/python3.11/dist-packages (from python-pptx) (4.12.2)\n",
            "Requirement already satisfied: requests<3,>=2.27 in /usr/local/lib/python3.11/dist-packages (from gtts) (2.32.3)\n",
            "Requirement already satisfied: click<8.2,>=7.1 in /usr/local/lib/python3.11/dist-packages (from gtts) (8.1.8)\n",
            "Requirement already satisfied: numpy>=1.21.2 in /usr/local/lib/python3.11/dist-packages (from opencv-python) (1.26.4)\n",
            "Requirement already satisfied: decorator<5.0,>=4.0.2 in /usr/local/lib/python3.11/dist-packages (from moviepy) (4.4.2)\n",
            "Requirement already satisfied: imageio<3.0,>=2.5 in /usr/local/lib/python3.11/dist-packages (from moviepy) (2.37.0)\n",
            "Requirement already satisfied: imageio_ffmpeg>=0.2.0 in /usr/local/lib/python3.11/dist-packages (from moviepy) (0.6.0)\n",
            "Requirement already satisfied: tqdm<5.0,>=4.11.2 in /usr/local/lib/python3.11/dist-packages (from moviepy) (4.67.1)\n",
            "Requirement already satisfied: proglog<=1.0.0 in /usr/local/lib/python3.11/dist-packages (from moviepy) (0.1.10)\n",
            "Requirement already satisfied: charset-normalizer<4,>=2 in /usr/local/lib/python3.11/dist-packages (from requests<3,>=2.27->gtts) (3.4.1)\n",
            "Requirement already satisfied: idna<4,>=2.5 in /usr/local/lib/python3.11/dist-packages (from requests<3,>=2.27->gtts) (3.10)\n",
            "Requirement already satisfied: urllib3<3,>=1.21.1 in /usr/local/lib/python3.11/dist-packages (from requests<3,>=2.27->gtts) (2.3.0)\n",
            "Requirement already satisfied: certifi>=2017.4.17 in /usr/local/lib/python3.11/dist-packages (from requests<3,>=2.27->gtts) (2025.1.31)\n",
            "Downloading python_pptx-1.0.2-py3-none-any.whl (472 kB)\n",
            "\u001b[2K   \u001b[90m━━━━━━━━━━━━━━━━━━━━━━━━━━━━━━━━━━━━━━━━\u001b[0m \u001b[32m472.8/472.8 kB\u001b[0m \u001b[31m26.2 MB/s\u001b[0m eta \u001b[36m0:00:00\u001b[0m\n",
            "\u001b[?25hDownloading gTTS-2.5.4-py3-none-any.whl (29 kB)\n",
            "Downloading pydub-0.25.1-py2.py3-none-any.whl (32 kB)\n",
            "Downloading XlsxWriter-3.2.2-py3-none-any.whl (165 kB)\n",
            "\u001b[2K   \u001b[90m━━━━━━━━━━━━━━━━━━━━━━━━━━━━━━━━━━━━━━━━\u001b[0m \u001b[32m165.1/165.1 kB\u001b[0m \u001b[31m15.1 MB/s\u001b[0m eta \u001b[36m0:00:00\u001b[0m\n",
            "\u001b[?25hInstalling collected packages: pydub, XlsxWriter, python-pptx, gtts\n",
            "Successfully installed XlsxWriter-3.2.2 gtts-2.5.4 pydub-0.25.1 python-pptx-1.0.2\n"
          ]
        }
      ]
    },
    {
      "cell_type": "code",
      "source": [
        "!pip install pdf2image"
      ],
      "metadata": {
        "id": "o2n9t23x8CGA",
        "outputId": "b02d204b-3af9-45f9-eef0-72923a29b4c2",
        "colab": {
          "base_uri": "https://localhost:8080/"
        }
      },
      "execution_count": 3,
      "outputs": [
        {
          "output_type": "stream",
          "name": "stdout",
          "text": [
            "Collecting pdf2image\n",
            "  Downloading pdf2image-1.17.0-py3-none-any.whl.metadata (6.2 kB)\n",
            "Requirement already satisfied: pillow in /usr/local/lib/python3.11/dist-packages (from pdf2image) (11.1.0)\n",
            "Downloading pdf2image-1.17.0-py3-none-any.whl (11 kB)\n",
            "Installing collected packages: pdf2image\n",
            "Successfully installed pdf2image-1.17.0\n"
          ]
        }
      ]
    },
    {
      "cell_type": "code",
      "source": [
        "!apt-get install poppler-utils"
      ],
      "metadata": {
        "id": "JDMpeJhM84mW",
        "outputId": "323d28b0-5b26-43eb-ec77-70024a1575ca",
        "colab": {
          "base_uri": "https://localhost:8080/"
        }
      },
      "execution_count": 4,
      "outputs": [
        {
          "output_type": "stream",
          "name": "stdout",
          "text": [
            "Reading package lists... Done\n",
            "Building dependency tree... Done\n",
            "Reading state information... Done\n",
            "The following NEW packages will be installed:\n",
            "  poppler-utils\n",
            "0 upgraded, 1 newly installed, 0 to remove and 20 not upgraded.\n",
            "Need to get 186 kB of archives.\n",
            "After this operation, 696 kB of additional disk space will be used.\n",
            "Get:1 http://archive.ubuntu.com/ubuntu jammy-updates/main amd64 poppler-utils amd64 22.02.0-2ubuntu0.6 [186 kB]\n",
            "Fetched 186 kB in 1s (361 kB/s)\n",
            "Selecting previously unselected package poppler-utils.\n",
            "(Reading database ... 124926 files and directories currently installed.)\n",
            "Preparing to unpack .../poppler-utils_22.02.0-2ubuntu0.6_amd64.deb ...\n",
            "Unpacking poppler-utils (22.02.0-2ubuntu0.6) ...\n",
            "Setting up poppler-utils (22.02.0-2ubuntu0.6) ...\n",
            "Processing triggers for man-db (2.10.2-1) ...\n"
          ]
        }
      ]
    },
    {
      "cell_type": "code",
      "source": [
        "# Error to fix ho gaya but ye kuch symbolls ko bol rahi thi hash underscore\n",
        "import os\n",
        "from pptx import Presentation\n",
        "from gtts import gTTS\n",
        "import moviepy.editor as mp\n",
        "from pdf2image import convert_from_path\n",
        "\n",
        "# === Step 1: Convert PPT to PDF and Extract Images ===\n",
        "ppt_file = \"/content/OOP_Introduction_Python.pptx\"\n",
        "pdf_file = \"/content/OOP_Introduction_Python.pdf\"\n",
        "output_folder = \"output\"\n",
        "\n",
        "os.makedirs(output_folder, exist_ok=True)\n",
        "\n",
        "# Convert PPTX to PDF using LibreOffice (works in Colab)\n",
        "!soffice --headless --convert-to pdf \"{ppt_file}\" --outdir \"/content\"\n",
        "\n",
        "# Convert PDF pages to images (each slide as an image)\n",
        "slides = convert_from_path(pdf_file)\n",
        "image_files = []\n",
        "for i, slide in enumerate(slides):\n",
        "    image_path = f\"{output_folder}/slide_{i+1}.png\"\n",
        "    slide.save(image_path, \"PNG\")\n",
        "    image_files.append(image_path)\n",
        "\n",
        "# === Step 2: Generate Audio for Each Slide ===\n",
        "audio_files = []\n",
        "for i, img_path in enumerate(image_files):\n",
        "    slide_text = input(f\"Enter narration text for Slide {i+1}: \")\n",
        "\n",
        "    # Convert text to speech\n",
        "    audio_path = f\"{output_folder}/slide_{i+1}.mp3\"\n",
        "    tts = gTTS(text=slide_text, lang=\"en\")\n",
        "    tts.save(audio_path)\n",
        "    audio_files.append(audio_path)\n",
        "\n",
        "# === Step 3: Create Video ===\n",
        "video_clips = []\n",
        "for img_path, audio_path in zip(image_files, audio_files):\n",
        "    image_clip = mp.ImageClip(img_path).set_duration(mp.AudioFileClip(audio_path).duration)\n",
        "    audio_clip = mp.AudioFileClip(audio_path)\n",
        "    video_clips.append(image_clip.set_audio(audio_clip))\n",
        "\n",
        "# Combine all clips\n",
        "final_video = mp.concatenate_videoclips(video_clips, method=\"compose\")\n",
        "\n",
        "# Save final video\n",
        "video_output_path = \"final_presentation.mp4\"\n",
        "final_video.write_videofile(video_output_path, codec=\"libx264\", fps=24)\n",
        "\n",
        "print(f\"🎥 Video created successfully: {video_output_path}\")\n"
      ],
      "metadata": {
        "id": "2qrqNHK13Lnx",
        "outputId": "2dedf9bc-0904-4dfe-87ac-dc9c0e043258",
        "colab": {
          "base_uri": "https://localhost:8080/",
          "height": 373
        }
      },
      "execution_count": 10,
      "outputs": [
        {
          "output_type": "stream",
          "name": "stdout",
          "text": [
            "/bin/bash: line 1: soffice: command not found\n"
          ]
        },
        {
          "output_type": "error",
          "ename": "KeyboardInterrupt",
          "evalue": "Interrupted by user",
          "traceback": [
            "\u001b[0;31m---------------------------------------------------------------------------\u001b[0m",
            "\u001b[0;31mKeyboardInterrupt\u001b[0m                         Traceback (most recent call last)",
            "\u001b[0;32m<ipython-input-10-fe249c6257a5>\u001b[0m in \u001b[0;36m<cell line: 0>\u001b[0;34m()\u001b[0m\n\u001b[1;32m     27\u001b[0m \u001b[0maudio_files\u001b[0m \u001b[0;34m=\u001b[0m \u001b[0;34m[\u001b[0m\u001b[0;34m]\u001b[0m\u001b[0;34m\u001b[0m\u001b[0;34m\u001b[0m\u001b[0m\n\u001b[1;32m     28\u001b[0m \u001b[0;32mfor\u001b[0m \u001b[0mi\u001b[0m\u001b[0;34m,\u001b[0m \u001b[0mimg_path\u001b[0m \u001b[0;32min\u001b[0m \u001b[0menumerate\u001b[0m\u001b[0;34m(\u001b[0m\u001b[0mimage_files\u001b[0m\u001b[0;34m)\u001b[0m\u001b[0;34m:\u001b[0m\u001b[0;34m\u001b[0m\u001b[0;34m\u001b[0m\u001b[0m\n\u001b[0;32m---> 29\u001b[0;31m     \u001b[0mslide_text\u001b[0m \u001b[0;34m=\u001b[0m \u001b[0minput\u001b[0m\u001b[0;34m(\u001b[0m\u001b[0;34mf\"Enter narration text for Slide {i+1}: \"\u001b[0m\u001b[0;34m)\u001b[0m\u001b[0;34m\u001b[0m\u001b[0;34m\u001b[0m\u001b[0m\n\u001b[0m\u001b[1;32m     30\u001b[0m \u001b[0;34m\u001b[0m\u001b[0m\n\u001b[1;32m     31\u001b[0m     \u001b[0;31m# Convert text to speech\u001b[0m\u001b[0;34m\u001b[0m\u001b[0;34m\u001b[0m\u001b[0m\n",
            "\u001b[0;32m/usr/local/lib/python3.11/dist-packages/ipykernel/kernelbase.py\u001b[0m in \u001b[0;36mraw_input\u001b[0;34m(self, prompt)\u001b[0m\n\u001b[1;32m   1175\u001b[0m                 \u001b[0;34m\"raw_input was called, but this frontend does not support input requests.\"\u001b[0m\u001b[0;34m\u001b[0m\u001b[0;34m\u001b[0m\u001b[0m\n\u001b[1;32m   1176\u001b[0m             )\n\u001b[0;32m-> 1177\u001b[0;31m         return self._input_request(\n\u001b[0m\u001b[1;32m   1178\u001b[0m             \u001b[0mstr\u001b[0m\u001b[0;34m(\u001b[0m\u001b[0mprompt\u001b[0m\u001b[0;34m)\u001b[0m\u001b[0;34m,\u001b[0m\u001b[0;34m\u001b[0m\u001b[0;34m\u001b[0m\u001b[0m\n\u001b[1;32m   1179\u001b[0m             \u001b[0mself\u001b[0m\u001b[0;34m.\u001b[0m\u001b[0m_parent_ident\u001b[0m\u001b[0;34m[\u001b[0m\u001b[0;34m\"shell\"\u001b[0m\u001b[0;34m]\u001b[0m\u001b[0;34m,\u001b[0m\u001b[0;34m\u001b[0m\u001b[0;34m\u001b[0m\u001b[0m\n",
            "\u001b[0;32m/usr/local/lib/python3.11/dist-packages/ipykernel/kernelbase.py\u001b[0m in \u001b[0;36m_input_request\u001b[0;34m(self, prompt, ident, parent, password)\u001b[0m\n\u001b[1;32m   1217\u001b[0m             \u001b[0;32mexcept\u001b[0m \u001b[0mKeyboardInterrupt\u001b[0m\u001b[0;34m:\u001b[0m\u001b[0;34m\u001b[0m\u001b[0;34m\u001b[0m\u001b[0m\n\u001b[1;32m   1218\u001b[0m                 \u001b[0;31m# re-raise KeyboardInterrupt, to truncate traceback\u001b[0m\u001b[0;34m\u001b[0m\u001b[0;34m\u001b[0m\u001b[0m\n\u001b[0;32m-> 1219\u001b[0;31m                 \u001b[0;32mraise\u001b[0m \u001b[0mKeyboardInterrupt\u001b[0m\u001b[0;34m(\u001b[0m\u001b[0;34m\"Interrupted by user\"\u001b[0m\u001b[0;34m)\u001b[0m \u001b[0;32mfrom\u001b[0m \u001b[0;32mNone\u001b[0m\u001b[0;34m\u001b[0m\u001b[0;34m\u001b[0m\u001b[0m\n\u001b[0m\u001b[1;32m   1220\u001b[0m             \u001b[0;32mexcept\u001b[0m \u001b[0mException\u001b[0m\u001b[0;34m:\u001b[0m\u001b[0;34m\u001b[0m\u001b[0;34m\u001b[0m\u001b[0m\n\u001b[1;32m   1221\u001b[0m                 \u001b[0mself\u001b[0m\u001b[0;34m.\u001b[0m\u001b[0mlog\u001b[0m\u001b[0;34m.\u001b[0m\u001b[0mwarning\u001b[0m\u001b[0;34m(\u001b[0m\u001b[0;34m\"Invalid Message:\"\u001b[0m\u001b[0;34m,\u001b[0m \u001b[0mexc_info\u001b[0m\u001b[0;34m=\u001b[0m\u001b[0;32mTrue\u001b[0m\u001b[0;34m)\u001b[0m\u001b[0;34m\u001b[0m\u001b[0;34m\u001b[0m\u001b[0m\n",
            "\u001b[0;31mKeyboardInterrupt\u001b[0m: Interrupted by user"
          ]
        }
      ]
    },
    {
      "cell_type": "code",
      "source": [
        "import os\n",
        "import re\n",
        "from gtts import gTTS\n",
        "import moviepy.editor as mp\n",
        "from pdf2image import convert_from_path\n",
        "\n",
        "# === Step 1: Extract Images from PDF ===\n",
        "pdf_file = \"/content/OOP_Introduction_Python.pdf\"  # Using PDF directly\n",
        "output_folder = \"output\"\n",
        "\n",
        "os.makedirs(output_folder, exist_ok=True)\n",
        "\n",
        "# Convert PDF pages to images (each slide as an image)\n",
        "slides = convert_from_path(pdf_file)\n",
        "image_files = []\n",
        "for i, slide in enumerate(slides):\n",
        "    image_path = f\"{output_folder}/slide_{i+1}.png\"\n",
        "    slide.save(image_path, \"PNG\")\n",
        "    image_files.append(image_path)\n",
        "\n",
        "# Function to clean text (remove symbols like #, _)\n",
        "def clean_text(text):\n",
        "    return re.sub(r'[^a-zA-Z0-9\\s]', '', text)  # Keeps only letters, numbers, and spaces\n",
        "\n",
        "# === Step 2: Generate Audio for Each Slide ===\n",
        "audio_files = []\n",
        "for i, img_path in enumerate(image_files):\n",
        "    slide_text = input(f\"Enter narration text for Slide {i+1}: \")\n",
        "    clean_slide_text = clean_text(slide_text)  # Remove unwanted symbols\n",
        "\n",
        "    # Convert cleaned text to speech\n",
        "    audio_path = f\"{output_folder}/slide_{i+1}.mp3\"\n",
        "    tts = gTTS(text=clean_slide_text, lang=\"en\")\n",
        "    tts.save(audio_path)\n",
        "    audio_files.append(audio_path)\n",
        "\n",
        "# === Step 3: Create Video ===\n",
        "video_clips = []\n",
        "for img_path, audio_path in zip(image_files, audio_files):\n",
        "    image_clip = mp.ImageClip(img_path).set_duration(mp.AudioFileClip(audio_path).duration)\n",
        "    audio_clip = mp.AudioFileClip(audio_path)\n",
        "    video_clips.append(image_clip.set_audio(audio_clip))\n",
        "\n",
        "# Combine all clips\n",
        "final_video = mp.concatenate_videoclips(video_clips, method=\"compose\")\n",
        "\n",
        "# Save final video\n",
        "video_output_path = \"final_presentation.mp4\"\n",
        "final_video.write_videofile(video_output_path, codec=\"libx264\", fps=24)\n",
        "\n",
        "print(f\"🎥 Video created successfully: {video_output_path}\")\n"
      ],
      "metadata": {
        "id": "EyAAiJFx3LfQ",
        "outputId": "c9673926-0c59-46cd-feac-079b1d10e919",
        "colab": {
          "base_uri": "https://localhost:8080/"
        }
      },
      "execution_count": 11,
      "outputs": [
        {
          "output_type": "stream",
          "name": "stdout",
          "text": [
            "Enter narration text for Slide 1:  Hello everyone! Welcome to this session on Object-Oriented Programming (OOP) in Python. Today, we will dive into the fundamental concepts of OOP, why it is important, and how we can use it effectively in Python. Whether you are a beginner or someone looking to refine your knowledge, this session will help you get a clear understanding of OOP. So, let’s begin!\n",
            "Enter narration text for Slide 2: What is OOP? OOP is a programming paradigm based on objects, which contain data and methods.   Object-Oriented Programming, or OOP, is a programming approach that organizes code around objects and classes instead of just functions and logic. Each object represents a real-world entity, holding data (attributes) and performing actions (methods). For example, think about a Car. A car has properties like color, brand, and model, and it can perform actions like drive, brake, or accelerate. These properties and actions define an object. By using OOP, we make our programs more modular, reusable, and scalable, which makes coding efficient and organized.\n",
            "Enter narration text for Slide 3: Why Use OOP? OOP provides modularity, reusability, scalability, and maintainability.   Now, why should we use OOP? Modularity – It breaks large, complex problems into smaller parts, making the code easier to understand. Reusability – We can reuse code by creating classes and objects instead of writing the same logic again. Scalability – It is easier to add new features without affecting existing code. Maintainability – Debugging and updating code becomes simple. Real-world modeling – OOP closely represents how objects behave in real life. For example, in a large e-commerce application, every user can be an object, with attributes like name, email, and orders. Instead of writing code separately for each user, we define a class once and create multiple objects from it.\n",
            "Enter narration text for Slide 4: Core Concepts of OOP The key concepts of OOP are Class, Object, Encapsulation, Inheritance, Polymorphism, and Abstraction.   OOP is built around six core concepts: Class – Think of it as a blueprint for creating objects. Object – An instance of a class that holds data and methods. Encapsulation – Hiding data to prevent direct access and making code more secure. Inheritance – Allowing one class to reuse properties and methods of another class. Polymorphism – The same function name can be used for different purposes. Abstraction – Hiding complex implementation details and showing only the necessary information. These concepts make OOP powerful and flexible!\n",
            "Enter narration text for Slide 5: OOP in Python - Basic Syntax Example: Creating a simple Car class in Python.   Now, let’s look at a basic Python example that demonstrates OOP. class Car:     def  init (self, brand, color):         self.brand = brand  # Attribute         self.color = color  # Attribute          def drive(self):         print(fThe {self.color} {self.brand} is driving.)  # Method  # Creating an object my_car = Car(Tesla, Red) my_car.drive()  # Output: The Red Tesla is driving.  Here, ‘Car’ is a class, which acts as a blueprint. We define attributes (brand, color) and a method (drive). Then, we create an object ‘my_car’ with values (Tesla, Red). Calling the drive() method prints a message related to the object. This is how we create and use objects in Python!\n",
            "Enter narration text for Slide 6: Real-World Example OOP concepts in a Banking System.   Let’s take a real-world example of a Banking System. A BankAccount is a class that defines accounts. Every customer has an account object with attributes like account number and balance. Methods like deposit(), withdraw(), and check_balance() define actions users can take. Encapsulation keeps user data private. Inheritance allows creating specialized accounts, like SavingsAccount and CurrentAccount. Polymorphism lets different account types have different interest rates. This example shows how OOP makes software systems structured, secure, and easy to maintain.\n",
            "Enter narration text for Slide 7: Conclusion OOP enhances code structure and improves efficiency.   So, to wrap up, Object-Oriented Programming (OOP) makes software development more structured, reusable, and scalable. Python’s OOP features allow us to build efficient applications, whether it's for web development, game development, or machine learning. To master OOP, start practicing by writing your own classes and objects. Try creating a Student Management System, a Library System, or a simple game using OOP principles. Thank you for your time, and I hope this session has given you a solid understanding of OOP in Python!\n",
            "Moviepy - Building video final_presentation.mp4.\n",
            "MoviePy - Writing audio in final_presentationTEMP_MPY_wvf_snd.mp3\n"
          ]
        },
        {
          "output_type": "stream",
          "name": "stderr",
          "text": []
        },
        {
          "output_type": "stream",
          "name": "stdout",
          "text": [
            "MoviePy - Done.\n",
            "Moviepy - Writing video final_presentation.mp4\n",
            "\n"
          ]
        },
        {
          "output_type": "stream",
          "name": "stderr",
          "text": []
        },
        {
          "output_type": "stream",
          "name": "stdout",
          "text": [
            "Moviepy - Done !\n",
            "Moviepy - video ready final_presentation.mp4\n",
            "🎥 Video created successfully: final_presentation.mp4\n"
          ]
        }
      ]
    },
    {
      "cell_type": "code",
      "source": [],
      "metadata": {
        "id": "JihSRIax3LeB"
      },
      "execution_count": null,
      "outputs": []
    },
    {
      "cell_type": "code",
      "source": [],
      "metadata": {
        "id": "L_Fi9C_Y3LaX"
      },
      "execution_count": null,
      "outputs": []
    },
    {
      "cell_type": "code",
      "source": [],
      "metadata": {
        "id": "hnZ6lsKR3LZM"
      },
      "execution_count": null,
      "outputs": []
    }
  ],
  "metadata": {
    "colab": {
      "provenance": [],
      "authorship_tag": "ABX9TyPxzLquVyjSP8yUx7ONAJuI",
      "include_colab_link": true
    },
    "kernelspec": {
      "display_name": "Python 3",
      "name": "python3"
    },
    "language_info": {
      "name": "python"
    }
  },
  "nbformat": 4,
  "nbformat_minor": 0
}